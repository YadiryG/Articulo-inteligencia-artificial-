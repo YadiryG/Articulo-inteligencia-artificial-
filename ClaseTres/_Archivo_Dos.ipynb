{
 "cells": [
  {
   "cell_type": "code",
   "execution_count": null,
   "metadata": {},
   "outputs": [],
   "source": [
    "\n"
   ]
  },
  {
   "cell_type": "markdown",
   "metadata": {},
   "source": [
    "# manejo de variables\n"
   ]
  },
  {
   "cell_type": "code",
   "execution_count": 25,
   "metadata": {},
   "outputs": [
    {
     "name": "stdout",
     "output_type": "stream",
     "text": [
      "1\n",
      "<class 'int'>\n"
     ]
    }
   ],
   "source": [
    "# #variable entera \n",
    "# variable_int = 12\n",
    "# print(variable_int)\n",
    "# print(\"seccion no\")\n",
    "my_string = \"thisStringisAwesome\"\n",
    "\n",
    "# my_string.upper()\n",
    "# my_string.lower()\n",
    "# my_string.count(\"th\")\n",
    "# my_string.replace(\"this\",\"those\")\n",
    "\n",
    "\n",
    "my_string_dos = \"texto dos\"\n",
    "\n",
    "my_string + my_string_dos # asi se concatena (+)\n",
    "'m' in my_string\n",
    "\n",
    "lista = [\"a\",\"b\", 1,1.8]\n",
    "print(lista[2])\n",
    "print(type(lista[2]))  # muestra tipo si es entero decimal etc\n",
    "\n",
    "\n",
    "\n"
   ]
  },
  {
   "cell_type": "code",
   "execution_count": 3,
   "metadata": {},
   "outputs": [
    {
     "name": "stdout",
     "output_type": "stream",
     "text": [
      "thisStringisAwesome\n"
     ]
    }
   ],
   "source": [
    "my_string = \"thisStringisAwesome\"\n",
    "my_string.upper()\n",
    "print(my_string)"
   ]
  }
 ],
 "metadata": {
  "kernelspec": {
   "display_name": "Python 3",
   "language": "python",
   "name": "python3"
  },
  "language_info": {
   "codemirror_mode": {
    "name": "ipython",
    "version": 3
   },
   "file_extension": ".py",
   "mimetype": "text/x-python",
   "name": "python",
   "nbconvert_exporter": "python",
   "pygments_lexer": "ipython3",
   "version": "3.12.2"
  }
 },
 "nbformat": 4,
 "nbformat_minor": 2
}
